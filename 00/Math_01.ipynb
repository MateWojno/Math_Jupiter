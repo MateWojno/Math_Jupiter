{
 "cells": [
  {
   "cell_type": "markdown",
   "metadata": {},
   "source": [
    "# $$ Math $$                 \n",
    "## $$ LateX $$\n",
    "\n",
    "### $$ 1 + 2 = 3 $$\n",
    "\n",
    "#### $$ 2 * 2 = 4 $$"
   ]
  },
  {
   "cell_type": "markdown",
   "metadata": {},
   "source": [
    "*press `m` for markdown, `y` for code, shift+enter to make new cell*"
   ]
  },
  {
   "cell_type": "markdown",
   "metadata": {},
   "source": [
    "# $$ \\frac{1}{2} $$\n",
    "\n",
    "\\frac = is a command for fraction \n",
    "\n",
    "the number in the first curly brace {1} is the `numerator` and the second {2} is the `denominator`."
   ]
  },
  {
   "cell_type": "markdown",
   "metadata": {},
   "source": [
    "# $$ \\frac{x^2 +3y-z}{sin (4 \\omega _0 x)} $$"
   ]
  },
  {
   "cell_type": "markdown",
   "metadata": {},
   "source": [
    "# $$ \\sum \\limits _{i=1} ^{10} \\int \\limits _0 ^{\\infty} e^{\\nu _i x} dx $$"
   ]
  },
  {
   "cell_type": "markdown",
   "metadata": {},
   "source": [
    "$$ \\left ( \\begin {array}{cc} 1 & 2 \\\\ 3 & 4 \\end{array}\\right)\n",
    "\\left( \\begin{array}{c} 5 \\\\ 6 \\end {array} \\right) = \\mathbf{ \\underline{V}}$$"
   ]
  },
  {
   "cell_type": "markdown",
   "metadata": {},
   "source": [
    "# $$\\alpha, \\beta, \\gamma, \\pi, \\theta, \\Theta,$$ "
   ]
  },
  {
   "cell_type": "markdown",
   "metadata": {},
   "source": [
    "# $$ \\sqrt{x+y}, \\log, \\ln, \\sin, \\cos, \\tan, \\sec, \\sinh, $$"
   ]
  },
  {
   "cell_type": "markdown",
   "metadata": {},
   "source": [
    "# $$ \\leq, \\geq, \\approx, \\equiv,  \\neq, <, > $$"
   ]
  },
  {
   "cell_type": "markdown",
   "metadata": {},
   "source": [
    "# $$ \\dot{x}, \\mathbf{M}, \\underline{v} $$"
   ]
  },
  {
   "cell_type": "markdown",
   "metadata": {},
   "source": [
    "`$` : All the Math you want to write in the markdown should be inside opening and closing $ symbol in order to be processed as Math.\n",
    "\n",
    "\\beta : Creates the symbol beta\n",
    "\n",
    "\\hat{} : A hat is covered over anything inside the curly braces of \\hat{}.\n",
    "\n",
    "E.g. in \\hat{Y} hat is created over Y and in \\hat{\\beta}_{0},  hat is shown over beta\n",
    "\n",
    "_{} : Creates as subscript, anything inside the curly braces after _.\n",
    "\n",
    "E.g. \\hat{\\beta}_{0} will create beta with a hat and give it a subscript of 0.\n",
    "\n",
    "^{} : (Similar to subscript) Creates as superscript, anything inside the curly braces after ^.\n",
    "\n",
    "\\sum : Creates the summation symbol\n",
    "\n",
    "\\limits _{} ^{} : Creates lower and upper limit for the \\sum using the subscript and superscript notation.\n",
    "\n",
    "*** : Creates horizontal line\n",
    "\n",
    "`&emsp;` : Creates space. (Ref: Space in ‘markdown’ cell of Jupyter Notebook)\n",
    "\n",
    "\\gamma : Creates gamma symbol\n",
    "\n",
    "\\displaystyle : Forces display mode (BONUS 3 above). (Ref: Display style in Math mode)\n",
    "\n",
    "\\frac{}{} : Creates fraction with two curly braces from numerator and denominator.\n",
    "\n",
    "`<br>` : Creates line breaks\n",
    "\n",
    "\\Bigg : Helps create parenthesis of big sizes. (Ref: Brackets and Parentheses)\n",
    "\n",
    "\\partial : Creates partial derivatives symbol\n",
    "\n",
    "\\underset() : To write under a text. E.g. gamma under arg min, instead of a subscript. In the algorithm you’ll see both types.\n",
    "\n",
    "\\in : Creates belongs to symbol which is heavily used in set theory."
   ]
  },
  {
   "cell_type": "markdown",
   "metadata": {},
   "source": [
    "***\n",
    "$\\mathbf{\\text{Gradient Tree Boosting Algorithm}}$<br>\n",
    "***\n",
    "1.&emsp;Initialize model with a constant value $$f_{0}(x) = \\textrm{arg min}_{\\gamma} \\sum \\limits _{i=1} ^{N} L(y_{i}, \\gamma)$$\n",
    "2.&emsp;For m = 1 to M:<br>\n",
    "&emsp;&emsp;(a)&emsp;For $i = 1,2,...,N$ compute<br>\n",
    "    $$r_{im} = - \\displaystyle \\Bigg[\\frac{\\partial L(y_{i}, f(x_{i}))}{\\partial f(x_{i})}\\Bigg]_{f=f_{m−1}}$$\n",
    "&emsp;&emsp;(b)&emsp;Fit a regression tree to the targets $r_{im}$ giving terminal regions<br>\n",
    "&emsp;&emsp;&emsp;&emsp;$R_{jm}, j = 1, 2, . . . , J_{m}.$<br><br>\n",
    "&emsp;&emsp;(c)&emsp;For $j = 1, 2, . . . , J_{m}$ compute<br>\n",
    "$$\\gamma_{jm} = \\underset{\\gamma}{\\textrm{arg min}} \\sum \\limits _{x_{i} \\in R_{jm}} L(y_{i}, f_{m−1}(x_{i}) + \\gamma)$$\n",
    "<br>\n",
    "&emsp;&emsp;(d)&emsp;Update $f_{m}(x) = f_{m−1}(x) + \\sum _{j=1} ^{J_{m}} \\gamma_{jm} I(x \\in R_{jm})$<br><br>\n",
    "3. Output $\\hat{f}(x) = f_{M}(x)$\n",
    "\n",
    "***"
   ]
  }
 ],
 "metadata": {
  "kernelspec": {
   "display_name": "Python 3.10.5 64-bit",
   "language": "python",
   "name": "python3"
  },
  "language_info": {
   "name": "python",
   "version": "3.10.5"
  },
  "orig_nbformat": 4,
  "vscode": {
   "interpreter": {
    "hash": "e593ac106456af50ce7af38f9671c411b49d6cd90f9b885e167f0f594e09038c"
   }
  }
 },
 "nbformat": 4,
 "nbformat_minor": 2
}
