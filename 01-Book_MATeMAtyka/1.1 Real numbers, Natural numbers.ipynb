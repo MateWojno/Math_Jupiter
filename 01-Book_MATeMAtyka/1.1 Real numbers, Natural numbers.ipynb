{
 "cells": [
  {
   "cell_type": "markdown",
   "metadata": {},
   "source": [
    "# Real number\n",
    "\n",
    "\n",
    "\n",
    "The real numbers include all the rational numbers, such as the integer −5 and the fraction 4/3, and all the irrational numbers, such as {\\displaystyle {\\sqrt {2}}}{\\sqrt {2}} (1.41421356..., the square root of 2, an irrational algebraic number). \n",
    "\n"
   ]
  },
  {
   "cell_type": "markdown",
   "metadata": {},
   "source": [
    "# Natural number\n",
    "\n",
    "The double-struck capital N symbol, often used to denote the set of all natural numbers (see Glossary of mathematical symbols).\n",
    "\n",
    "Natural numbers can be used for counting (one apple, two apples, three apples, ...)\n",
    "In mathematics, the natural numbers are those numbers used for counting (as in \"there are six coins on the table\") and ordering (as in \"this is the third largest city in the country\").\n"
   ]
  },
  {
   "cell_type": "markdown",
   "metadata": {},
   "source": [
    "# N for natural, $$N,$$ $$N+1$$\n"
   ]
  },
  {
   "cell_type": "markdown",
   "metadata": {},
   "source": [
    "# m != 0 and n \n",
    "\n",
    "`m` is `n`'s `factor` if there is `k` natural int which $ n = m * k $"
   ]
  },
  {
   "cell_type": "markdown",
   "metadata": {},
   "source": [
    "$$ m = 1 $$\n",
    "$$ n = 2 $$\n",
    "$$ k = 2 $$ \n",
    "\n",
    "## m is not eual to 0 and not equal to n, and k times (*) m equals n, so m is n's `factor!`"
   ]
  },
  {
   "cell_type": "markdown",
   "metadata": {},
   "source": [
    "# exc 1.\n",
    "\n",
    "Enumerate factor of:\n",
    "\n",
    "## 1/ $$12$$\n",
    "\n",
    "## 2/ $$28$$\n",
    "\n",
    "## 3/ $$36$$\n",
    "\n",
    "## 4/ $$48$$"
   ]
  },
  {
   "cell_type": "markdown",
   "metadata": {},
   "source": [
    "## ad.1. \n",
    "# $12=m*k,12=1*12,12=2*6,12=3*4,12=4*3,12=6*2, 12=12*1$"
   ]
  },
  {
   "cell_type": "markdown",
   "metadata": {},
   "source": [
    "ad. 2.\n",
    "# \n",
    "$$28=m*k$$\n"
   ]
  },
  {
   "cell_type": "code",
   "execution_count": 54,
   "metadata": {},
   "outputs": [
    {
     "name": "stdout",
     "output_type": "stream",
     "text": [
      "This program helps you find the correct integer factor - by @ MateWojno\n",
      "Your choice is : 6 \n",
      "Give me a factor: \n",
      "Your factor choice is:  3 \n",
      "Ok, how many times it can be divided without remainder: \n",
      "your choice is: 2\n",
      "You guessed it!\n"
     ]
    }
   ],
   "source": [
    "\n",
    "\n",
    "print('This program helps you find the correct integer factor - by @ MateWojno')\n",
    "n = int(input('\"Type the natural number, e.g.: 12, 28, 36 or 48\"'))\n",
    "if n == 12 or 28 or 36 or 48:\n",
    "    print('Your choice is :',n, '\\nGive me a factor: ')\n",
    "\n",
    "m = int(input('\"Type something from 1 to inf\"'))\n",
    "if m == 1 or 2 or 3 or 4 or 5 or 6 or 7 or 8 or 9 or 10:\n",
    "    print('Your factor choice is: ',m, \"\\nOk, how many times it can be divided without remainder: \")\n",
    "            \n",
    "k = int(input('\"Type something from 1 to inf\"'))\n",
    "if k == 1 or 2 or 3 or 4 or 5 or 6 or 7 or 8 or 9 or 10 or 11 or n:\n",
    "        print('your choice is:', k) \n",
    "        \n",
    "if  m !=n and 0 : \n",
    "    print('Good!')       \n",
    "\n",
    "if m*k==n:\n",
    "    print('You guessed it!')\n",
    "else:\n",
    "    print('you failed!')\n",
    "\n",
    "## How to find all of the factors?"
   ]
  },
  {
   "cell_type": "markdown",
   "metadata": {},
   "source": [
    "# $$ 3|m $$\n",
    "\n",
    "## means 3 is `m's` factor\n",
    "\n",
    "# $$ 2|m $$ \n",
    "\n",
    "## means `m` is `even number`"
   ]
  },
  {
   "cell_type": "markdown",
   "metadata": {},
   "source": [
    "# Is it true:\n",
    "$$ 3 | 323 232 $$\n",
    "\n",
    "$$ 11 | 111 $$\n",
    "\n",
    "$$ 15|2345$$\n",
    "\n",
    "$$ 7 |4949$$"
   ]
  },
  {
   "cell_type": "markdown",
   "metadata": {},
   "source": [
    "# Even number you can write as `2k` not even as `2k + 1`"
   ]
  },
  {
   "cell_type": "code",
   "execution_count": 90,
   "metadata": {},
   "outputs": [
    {
     "name": "stdout",
     "output_type": "stream",
     "text": [
      "0\n",
      "This is legit!\n"
     ]
    }
   ],
   "source": [
    "\n",
    "# 3|323232 \n",
    "# % modulo returns the remainder\n",
    "# too complicated...\n",
    "i = 0\n",
    "while i != 10:    \n",
    "    print(i)\n",
    "    x=int(input(\"Give x:  \"))\n",
    "    y=int(input('Give y: ')) \n",
    "    if x % y == 0: \n",
    "            print('This is legit!')\n",
    "    else:\n",
    "            print('There is a remainder!')\n",
    "    i += 1\n",
    "    if i == 5:\n",
    "        end=input('N to end, Y to continue: ')\n",
    "\n",
    "    if i == 10 or end=='n'.lower():\n",
    "        break\n",
    "            "
   ]
  },
  {
   "cell_type": "markdown",
   "metadata": {},
   "source": [
    "$$ 45/3 = 15$$\n",
    "## remainder = 0 \n",
    "$$ 47/3 = 15*3+2$$\n",
    "$$ 47/3 = 3k+2$$\n"
   ]
  },
  {
   "cell_type": "markdown",
   "metadata": {},
   "source": [
    "$$26/3=3*8+2$$\n",
    "$$26/3=3k+2$$\n"
   ]
  },
  {
   "cell_type": "markdown",
   "metadata": {},
   "source": [
    "$$76/3=3*25+1$$\n",
    "$$76/25=3k+1$$"
   ]
  },
  {
   "cell_type": "markdown",
   "metadata": {},
   "source": [
    "$$108/3=36$$\n",
    "$$108/3=3k$$"
   ]
  },
  {
   "cell_type": "markdown",
   "metadata": {},
   "source": [
    "$$127/3=3*42+1$$\n",
    "$$127/3=3k+1$$"
   ]
  },
  {
   "cell_type": "markdown",
   "metadata": {},
   "source": [
    "$$ 713/3=3*237+2$$\n",
    "$$ 713/3=3k+2$$"
   ]
  },
  {
   "cell_type": "markdown",
   "metadata": {},
   "source": [
    "# If certain number has only two factors 1 and thyself it is a `PRIME NUMBER`"
   ]
  }
 ],
 "metadata": {
  "kernelspec": {
   "display_name": "Python 3.10.4 64-bit",
   "language": "python",
   "name": "python3"
  },
  "language_info": {
   "codemirror_mode": {
    "name": "ipython",
    "version": 3
   },
   "file_extension": ".py",
   "mimetype": "text/x-python",
   "name": "python",
   "nbconvert_exporter": "python",
   "pygments_lexer": "ipython3",
   "version": "3.10.4"
  },
  "orig_nbformat": 4,
  "vscode": {
   "interpreter": {
    "hash": "67dc9874dedfa32fa304f6636bb0a88d4fc0015ec8d61a6e5fa69d8cd2b1adfd"
   }
  }
 },
 "nbformat": 4,
 "nbformat_minor": 2
}
