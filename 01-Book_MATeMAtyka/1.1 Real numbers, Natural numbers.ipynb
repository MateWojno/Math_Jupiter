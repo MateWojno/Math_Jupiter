{
 "cells": [
  {
   "cell_type": "markdown",
   "metadata": {},
   "source": [
    "# Real number\n",
    "\n",
    "From Wikipedia, the free encyclopedia\n",
    "Jump to navigationJump to search\n",
    "For the real numbers used in descriptive set theory, see Baire space (set theory). For the computing datatype, see Floating-point number.\n",
    "\n",
    "This article includes a list of general references, but it lacks sufficient corresponding inline citations. Please help to improve this article by introducing more precise citations. (April 2016) (Learn how and when to remove this template message)\n",
    "\n",
    "A symbol for the set of real numbers\n",
    "In mathematics, a real number is a value of a continuous quantity that can represent a distance along a line (or alternatively, a quantity that can be represented as an infinite decimal expansion). The adjective real in this context was introduced in the 17th century by René Descartes, who distinguished between real and imaginary roots of polynomials.[1] The real numbers include all the rational numbers, such as the integer −5 and the fraction 4/3, and all the irrational numbers, such as {\\displaystyle {\\sqrt {2}}}{\\sqrt {2}} (1.41421356..., the square root of 2, an irrational algebraic number). Included within the irrationals are the real transcendental numbers, such as π (3.14159265...).[2] In addition to measuring distance, real numbers can be used to measure quantities such as time, mass, energy, velocity, and many more. The set of real numbers is denoted using the symbol R or {\\displaystyle \\mathbb {R} }\\mathbb {R} [3] and is sometimes called \"the reals\".[4]\n",
    "\n",
    "Real numbers can be thought of as points on an infinitely long line called the number line or real line, where the points corresponding to integers are equally spaced. Any real number can be determined by a possibly infinite decimal representation, such as that of 8.632, where each consecutive digit is measured in units one-tenth the size of the previous one.[5] The real line can be thought of as a part of the complex plane, and the real numbers can be thought of as a part of the complex numbers.\n",
    "\n",
    "\n",
    "Real numbers can be thought of as points on an infinitely long number line\n",
    "These descriptions of the real numbers are not sufficiently rigorous by the modern standards of pure mathematics. The discovery of a suitably rigorous definition of the real numbers—indeed, the realization that a better definition was needed—was one of the most important developments of 19th-century mathematics. The current standard axiomatic definition is that real numbers form the unique Dedekind-complete ordered field ({\\displaystyle \\mathbb {R} }\\mathbb {R}  ; + ; · ; <), up to an isomorphism,[a] whereas popular constructive definitions of real numbers include declaring them as equivalence classes of Cauchy sequences (of rational numbers), Dedekind cuts, or infinite decimal representations, together with precise interpretations for the arithmetic operations and the order relation. All these definitions satisfy the axiomatic definition and are thus equivalent.\n",
    "\n",
    "The set of all real numbers is uncountable, in the sense that while both the set of all natural numbers and the set of all real numbers are infinite sets, there can be no one-to-one function from the real numbers to the natural numbers. In fact, the cardinality of the set of all real numbers, denoted by {\\displaystyle {\\mathfrak {c}}}{\\mathfrak {c}} and called the cardinality of the continuum, is strictly greater than the cardinality of the set of all natural numbers (denoted {\\displaystyle \\aleph _{0}}\\aleph _{0}, 'aleph-naught').\n",
    "\n",
    "The statement that there is no subset of the reals with cardinality strictly greater than {\\displaystyle \\aleph _{0}}\\aleph _{0} and strictly smaller than {\\displaystyle {\\mathfrak {c}}}{\\mathfrak {c}} is known as the continuum hypothesis (CH). It is neither provable nor refutable using the axioms of Zermelo–Fraenkel set theory including the axiom of choice (ZFC)—the standard foundation of modern mathematics. In fact, some models of ZFC satisfy CH, while others violate it.[6]"
   ]
  },
  {
   "cell_type": "markdown",
   "metadata": {},
   "source": [
    "# Natural number\n",
    "From Wikipedia, the free encyclopedia\n",
    "Jump to navigationJump to search\n",
    "This article is about \"positive integers\" and \"non-negative integers\". For all the numbers ..., −2, −1, 0, 1, 2, ..., see Integer.\n",
    "\n",
    "The double-struck capital N symbol, often used to denote the set of all natural numbers (see Glossary of mathematical symbols).\n",
    "\n",
    "Natural numbers can be used for counting (one apple, two apples, three apples, ...)\n",
    "In mathematics, the natural numbers are those numbers used for counting (as in \"there are six coins on the table\") and ordering (as in \"this is the third largest city in the country\").\n",
    "\n",
    "Numbers used for counting are called cardinal numbers, and numbers used for ordering are called ordinal numbers. Natural numbers are sometimes used as labels, known as nominal numbers, having none of the properties of numbers in a mathematical sense (e.g. sports jersey numbers).[1][2]\n",
    "\n",
    "Some definitions, including the standard ISO 80000-2,[3][a] begin the natural numbers with 0, corresponding to the non-negative integers 0, 1, 2, 3, ..., whereas others start with 1, corresponding to the positive integers 1, 2, 3, ...[4][b] Texts that exclude zero from the natural numbers sometimes refer to the natural numbers together with zero as the whole numbers, while in other writings, that term is used instead for the integers (including negative integers).[5]\n",
    "\n",
    "The natural numbers are a basis from which many other number sets may be built by extension: the integers, by including (if not yet in) the identity element 0 and an additive inverse (−n) for each nonzero natural number n; the rational numbers, by including a multiplicative inverse ({\\displaystyle {\\tfrac {1}{n}}}{\\displaystyle {\\tfrac {1}{n}}}) for each nonzero integer n (and also the product of these inverses by integers); the real numbers by including with the rationals the limits of (converging) Cauchy sequences of rationals; the complex numbers, by including with the real numbers the unresolved square root of minus one (and also the sums and products thereof); and so on.[c][d] This chain of extensions make the natural numbers canonically embedded (identified) in the other number systems.\n",
    "\n",
    "Properties of the natural numbers, such as divisibility and the distribution of prime numbers, are studied in number theory. Problems concerning counting and ordering, such as partitioning and enumerations, are studied in combinatorics.\n",
    "\n",
    "In common language, particularly in primary school education, natural numbers may be called counting numbers[6] to intuitively exclude the negative integers and zero, and also to contrast the discreteness of counting to the continuity of measurement—a hallmark characteristic of real numbers."
   ]
  }
 ],
 "metadata": {
  "kernelspec": {
   "display_name": "Python 3.10.4 64-bit",
   "language": "python",
   "name": "python3"
  },
  "language_info": {
   "name": "python",
   "version": "3.10.4"
  },
  "orig_nbformat": 4,
  "vscode": {
   "interpreter": {
    "hash": "67dc9874dedfa32fa304f6636bb0a88d4fc0015ec8d61a6e5fa69d8cd2b1adfd"
   }
  }
 },
 "nbformat": 4,
 "nbformat_minor": 2
}
